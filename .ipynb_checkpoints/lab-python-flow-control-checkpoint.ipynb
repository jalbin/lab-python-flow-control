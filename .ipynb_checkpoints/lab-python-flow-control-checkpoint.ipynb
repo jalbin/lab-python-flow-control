{
 "cells": [
  {
   "cell_type": "markdown",
   "metadata": {
    "tags": []
   },
   "source": [
    "# Lab | Flow Control"
   ]
  },
  {
   "cell_type": "markdown",
   "metadata": {},
   "source": [
    "## Exercise: Managing Customer Orders Optimized\n",
    "\n",
    "In the last lab, you were starting an online store that sells various products. To ensure smooth operations, you developed a program that manages customer orders and inventory.\n",
    "\n",
    "You did so without using flow control. Let's go a step further and improve this code.\n",
    "\n",
    "Follow the steps below to complete the exercise:\n",
    "\n",
    "1. Look at your code from the lab data structures, and improve repeated code with loops.\n",
    "\n",
    "2. Instead of asking the user to input the name of three products that a customer wants to order, do the following:\n",
    "    \n",
    "    a. Prompt the user to enter the name of a product that a customer wants to order.\n",
    "    \n",
    "    b. Add the product name to the \"customer_orders\" set.\n",
    "    \n",
    "    c. Ask the user if they want to add another product (yes/no).\n",
    "    \n",
    "    d. Continue the loop until the user does not want to add another product.\n",
    "\n",
    "3. Instead of updating the inventory by subtracting 1 from the quantity of each product, only do it for  the products that were ordered (those in \"customer_orders\")."
   ]
  },
  {
   "cell_type": "markdown",
   "metadata": {},
   "source": [
    "### 1.  All repeated code has been improved with loops"
   ]
  },
  {
   "cell_type": "code",
   "execution_count": 1,
   "metadata": {},
   "outputs": [
    {
     "name": "stdout",
     "output_type": "stream",
     "text": [
      "Enter the quantity for t-shirt : 2\n",
      "Enter the quantity for mug : 4\n",
      "Enter the quantity for hat : 6\n",
      "Enter the quantity for book : 8\n",
      "Enter the quantity for keychain : foo\n",
      "Enter a valid quantity for keychain : 10\n"
     ]
    }
   ],
   "source": [
    "products = [\"t-shirt\", \"mug\", \"hat\", \"book\", \"keychain\"]\n",
    "inventory = {}\n",
    "customer_orders = set()\n",
    "\n",
    "\n",
    "for product in products:\n",
    "    quantity = input(f\"Enter the quantity for {product} : \")\n",
    "    while not quantity.isdigit():\n",
    "        quantity = input(f\"Enter a valid quantity for {product} : \")\n",
    "    inventory[product] = int(quantity)\n",
    "\n",
    "\n"
   ]
  },
  {
   "cell_type": "markdown",
   "metadata": {},
   "source": [
    "### 2. Prompt the user to enter products name to order."
   ]
  },
  {
   "cell_type": "code",
   "execution_count": 2,
   "metadata": {},
   "outputs": [
    {
     "name": "stdout",
     "output_type": "stream",
     "text": [
      "Enter the name of a product to order: hat\n",
      "Do you want to order another product ?(yes/no)? yes\n",
      "Enter the name of a product to order: mug\n",
      "Do you want to order another product ?(yes/no)? yes\n",
      "Enter the name of a product to order: book\n",
      "Do you want to order another product ?(yes/no)? no\n",
      "{'mug', 'hat', 'book'}\n"
     ]
    }
   ],
   "source": [
    "wanna_order = \"yes\"\n",
    "\n",
    "while wanna_order == \"yes\":\n",
    "    order = input(\"Enter the name of a product to order: \")\n",
    "    customer_orders.add(order)\n",
    "    wanna_order = input(\"Do you want to order another product ?(yes/no)? \")\n",
    "    \n",
    "print(customer_orders)"
   ]
  },
  {
   "cell_type": "code",
   "execution_count": 3,
   "metadata": {},
   "outputs": [
    {
     "name": "stdout",
     "output_type": "stream",
     "text": [
      "Order Statistics:\n",
      "Total Products Ordered: 3\n",
      "Percentage of Products Ordered: 60.0%\n"
     ]
    }
   ],
   "source": [
    "order_status = (len(customer_orders),100*len(customer_orders)/len(products))\n",
    "\n",
    "print(f\"Order Statistics:\\nTotal Products Ordered: {order_status[0]}\\nPercentage of Products Ordered: {order_status[1]}%\")"
   ]
  },
  {
   "cell_type": "markdown",
   "metadata": {},
   "source": [
    "### 3. Updating inventory"
   ]
  },
  {
   "cell_type": "code",
   "execution_count": 4,
   "metadata": {},
   "outputs": [
    {
     "name": "stdout",
     "output_type": "stream",
     "text": [
      "t-shirt : 2\n",
      "mug : 3\n",
      "hat : 5\n",
      "book : 7\n",
      "keychain : 10\n"
     ]
    }
   ],
   "source": [
    "for order in customer_orders: \n",
    "    inventory[order] -= 1\n",
    "    \n",
    "for k,v in inventory.items(): \n",
    "    print(f\"{k} : {v}\")"
   ]
  }
 ],
 "metadata": {
  "kernelspec": {
   "display_name": "Python 3",
   "language": "python",
   "name": "python3"
  },
  "language_info": {
   "codemirror_mode": {
    "name": "ipython",
    "version": 3
   },
   "file_extension": ".py",
   "mimetype": "text/x-python",
   "name": "python",
   "nbconvert_exporter": "python",
   "pygments_lexer": "ipython3",
   "version": "3.7.6"
  }
 },
 "nbformat": 4,
 "nbformat_minor": 5
}
